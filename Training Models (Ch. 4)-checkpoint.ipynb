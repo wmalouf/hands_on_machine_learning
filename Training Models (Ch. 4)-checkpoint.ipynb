{
 "cells": [
  {
   "cell_type": "markdown",
   "metadata": {},
   "source": [
    "# Linear regression"
   ]
  },
  {
   "cell_type": "markdown",
   "metadata": {},
   "source": [
    "Consider the vector $\\vec{x} $ which contains the set of features of a given problem. Let us now define a set of parameters $ \\vec{\\theta}^\\top = (\\theta_0, \\theta_1, \\dots, \\theta_n) $ and combine them with our features in the following  equation \n",
    "\n",
    "\\begin{equation}\n",
    "h_\\theta(x) = \\theta^\\top . \\vec{x},\n",
    "\\end{equation}\n",
    "\n",
    "where $x_0$ is always equal to 1 (it is necessary to obtain the linear coefficient). The goal of the linear reagression is to find the best set of parameters so that,\n",
    "\n",
    "\\begin{equation}\n",
    "h_\\theta(x) = y\n",
    "\\end{equation}\n",
    "\n",
    "where $ y $ is our target variable."
   ]
  },
  {
   "cell_type": "markdown",
   "metadata": {},
   "source": [
    "One of the ways of doing it is to minimize the Mean Square Error (MSE):\n",
    "\n",
    "\\begin{equation}\n",
    "    MSE(X,h_\\theta) = \\frac{1}{n} \\sum_{i=1}^n (\\theta^T . x_i - y_i)^2,\n",
    "\\end{equation}\n",
    "\n",
    "which has the following analytical soluction:\n",
    "\n",
    "\\begin{equation}\n",
    "\\hat\\theta = (X^T.X)^{-1} . X^T.y,\n",
    "\\end{equation}\n",
    "\n",
    "where $\\hat \\theta$ is the minimum of the MSE."
   ]
  },
  {
   "cell_type": "markdown",
   "metadata": {},
   "source": [
    "#### Example"
   ]
  },
  {
   "cell_type": "code",
   "execution_count": 15,
   "metadata": {},
   "outputs": [
    {
     "data": {
      "image/png": "[encoded data removed]",
      "text/plain": [
       "<Figure size 432x288 with 1 Axes>"
      ]
     },
     "metadata": {
      "needs_background": "light"
     },
     "output_type": "display_data"
    }
   ],
   "source": [
    "import numpy as np\n",
    "import matplotlib.pyplot as plt\n",
    "\n",
    "X = 2*np.random.rand(100,1)\n",
    "y = 4 + 3*X + np.random.rand(100,1)\n",
    "\n",
    "plt.scatter(X,y)\n",
    "plt.show()"
   ]
  },
  {
   "cell_type": "code",
   "execution_count": 21,
   "metadata": {},
   "outputs": [
    {
     "name": "stdout",
     "output_type": "stream",
     "text": [
      "[[1.         1.06362482]\n",
      " [1.         1.24018887]\n",
      " [1.         1.31179423]\n",
      " [1.         0.01339674]\n",
      " [1.         0.04237055]\n",
      " [1.         0.14325076]\n",
      " [1.         0.2704469 ]\n",
      " [1.         1.94212634]\n",
      " [1.         0.16028836]\n",
      " [1.         0.56847522]\n",
      " [1.         0.88602939]\n",
      " [1.         1.76352574]\n",
      " [1.         0.43344755]\n",
      " [1.         0.60435791]\n",
      " [1.         1.63518749]\n",
      " [1.         1.86635259]\n",
      " [1.         0.29523273]\n",
      " [1.         0.33399494]\n",
      " [1.         0.87252894]\n",
      " [1.         1.41159391]\n",
      " [1.         1.52881359]\n",
      " [1.         1.1943262 ]\n",
      " [1.         1.85845181]\n",
      " [1.         1.01278397]\n",
      " [1.         0.28771941]\n",
      " [1.         1.69860975]\n",
      " [1.         1.65221418]\n",
      " [1.         1.78605117]\n",
      " [1.         1.09796681]\n",
      " [1.         0.1164792 ]\n",
      " [1.         1.72552873]\n",
      " [1.         0.25195559]\n",
      " [1.         0.09458763]\n",
      " [1.         0.87372795]\n",
      " [1.         1.60864573]\n",
      " [1.         0.79317636]\n",
      " [1.         0.04412905]\n",
      " [1.         0.28607863]\n",
      " [1.         1.40955592]\n",
      " [1.         0.2238464 ]\n",
      " [1.         1.71967691]\n",
      " [1.         0.27197205]\n",
      " [1.         1.10337341]\n",
      " [1.         0.17466942]\n",
      " [1.         1.31124175]\n",
      " [1.         0.84392373]\n",
      " [1.         0.70669622]\n",
      " [1.         0.11143823]\n",
      " [1.         0.10751424]\n",
      " [1.         0.73707787]\n",
      " [1.         0.57520345]\n",
      " [1.         0.18433552]\n",
      " [1.         1.24865515]\n",
      " [1.         0.82493435]\n",
      " [1.         0.64465297]\n",
      " [1.         0.01502683]\n",
      " [1.         1.71208414]\n",
      " [1.         1.19762911]\n",
      " [1.         0.87981023]\n",
      " [1.         0.14705349]\n",
      " [1.         1.64255235]\n",
      " [1.         0.36238598]\n",
      " [1.         0.4848513 ]\n",
      " [1.         1.60595882]\n",
      " [1.         1.13618433]\n",
      " [1.         0.37991266]\n",
      " [1.         0.499685  ]\n",
      " [1.         0.41996905]\n",
      " [1.         0.71718777]\n",
      " [1.         1.13184753]\n",
      " [1.         1.99817123]\n",
      " [1.         0.28788592]\n",
      " [1.         0.56164618]\n",
      " [1.         0.59472828]\n",
      " [1.         1.90715155]\n",
      " [1.         0.51931559]\n",
      " [1.         0.03360549]\n",
      " [1.         0.48835883]\n",
      " [1.         0.09890896]\n",
      " [1.         0.45158483]\n",
      " [1.         0.48017651]\n",
      " [1.         1.1549844 ]\n",
      " [1.         1.9593493 ]\n",
      " [1.         1.20011851]\n",
      " [1.         0.12966623]\n",
      " [1.         1.52080697]\n",
      " [1.         0.39877819]\n",
      " [1.         1.4253164 ]\n",
      " [1.         0.14056608]\n",
      " [1.         0.44405493]\n",
      " [1.         1.9799614 ]\n",
      " [1.         1.9140565 ]\n",
      " [1.         0.93798346]\n",
      " [1.         0.54108555]\n",
      " [1.         0.99531879]\n",
      " [1.         0.38578363]\n",
      " [1.         0.85774671]\n",
      " [1.         1.76190593]\n",
      " [1.         0.80096053]\n",
      " [1.         0.61952197]]\n"
     ]
    }
   ],
   "source": [
    "X_b = np.c_[np.ones((100,1)),X] # add x0 = 1 to each instance\n",
    "print(X_b)"
   ]
  },
  {
   "cell_type": "code",
   "execution_count": 20,
   "metadata": {
    "scrolled": true
   },
   "outputs": [
    {
     "name": "stdout",
     "output_type": "stream",
     "text": [
      "[[4.46020825]\n",
      " [3.00857112]]\n"
     ]
    }
   ],
   "source": [
    "theta_best = np.linalg.inv(X_b.T.dot(X_b)).dot(X_b.T).dot(y)\n",
    "print(theta_best)"
   ]
  },
  {
   "cell_type": "markdown",
   "metadata": {},
   "source": [
    "Which is close to $\\theta_0$ = 4 and $\\theta_1 = 3$. Let us now make a prediction of two values, let us say, 0, 1:"
   ]
  },
  {
   "cell_type": "code",
   "execution_count": 24,
   "metadata": {},
   "outputs": [
    {
     "data": {
      "text/plain": [
       "array([[ 4.46020825],\n",
       "       [10.47735049]])"
      ]
     },
     "execution_count": 24,
     "metadata": {},
     "output_type": "execute_result"
    }
   ],
   "source": [
    "X_new = np.array([[0],[2]])\n",
    "X_new_b = np.c_[np.ones((2, 1)), X_new] # add x0 = 1 to each instance\n",
    "y_predict = X_new_b.dot(theta_best)\n",
    "y_predict"
   ]
  },
  {
   "cell_type": "code",
   "execution_count": null,
   "metadata": {},
   "outputs": [],
   "source": [
    "#equivalent code using Scikit-Learn\n",
    "\n",
    "from sklearn.linear_model import LinearRegression\n",
    "\n",
    "lin_reg = LinearRegression()\n",
    "lin_reg.fit(X,y)\n",
    "lin"
   ]
  }
 ],
 "metadata": {
  "kernelspec": {
   "display_name": "Python 3",
   "language": "python",
   "name": "python3"
  },
  "language_info": {
   "codemirror_mode": {
    "name": "ipython",
    "version": 3
   },
   "file_extension": ".py",
   "mimetype": "text/x-python",
   "name": "python",
   "nbconvert_exporter": "python",
   "pygments_lexer": "ipython3",
   "version": "3.7.6"
  }
 },
 "nbformat": 4,
 "nbformat_minor": 4
}
